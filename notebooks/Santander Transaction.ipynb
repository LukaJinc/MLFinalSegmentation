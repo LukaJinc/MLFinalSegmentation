{
 "cells": [
  {
   "cell_type": "code",
   "id": "initial_id",
   "metadata": {
    "collapsed": true,
    "ExecuteTime": {
     "end_time": "2024-08-13T16:46:48.462249Z",
     "start_time": "2024-08-13T16:46:46.058919Z"
    }
   },
   "source": [
    "import pandas as pd\n",
    "import numpy as np\n",
    "\n",
    "from imblearn.under_sampling import RandomUnderSampler\n",
    "\n",
    "from utils import *\n",
    "pd.set_option('display.max_rows', 200)\n",
    "pd.set_option('display.max_columns', 200)\n",
    "\n",
    "DATA_FOLDER = '../data/Santander Customer Transaction Prediction Dataset/'\n",
    "RANDOM_STATE = 8"
   ],
   "outputs": [],
   "execution_count": 1
  },
  {
   "metadata": {
    "ExecuteTime": {
     "end_time": "2024-08-13T16:46:49.313538Z",
     "start_time": "2024-08-13T16:46:48.464242Z"
    }
   },
   "cell_type": "code",
   "source": "train = pd.read_csv(DATA_FOLDER + 'train.csv')",
   "id": "701053d6c930fb67",
   "outputs": [],
   "execution_count": 2
  },
  {
   "metadata": {
    "ExecuteTime": {
     "end_time": "2024-08-13T16:46:49.346618Z",
     "start_time": "2024-08-13T16:46:49.314557Z"
    }
   },
   "cell_type": "code",
   "source": "train.head()",
   "id": "6ff8a033a5aab5d5",
   "outputs": [
    {
     "data": {
      "text/plain": [
       "   ID_code    var_0   var_1    var_2   var_3    var_4   var_5   var_6  \\\n",
       "0  train_0   8.9255 -6.7863  11.9081  5.0930  11.4607 -9.2834  5.1187   \n",
       "1  train_1  11.5006 -4.1473  13.8588  5.3890  12.3622  7.0433  5.6208   \n",
       "2  train_2   8.6093 -2.7457  12.0805  7.8928  10.5825 -9.0837  6.9427   \n",
       "3  train_3  11.0604 -2.1518   8.9522  7.1957  12.5846 -1.8361  5.8428   \n",
       "4  train_4   9.8369 -1.4834  12.8746  6.6375  12.2772  2.4486  5.9405   \n",
       "\n",
       "     var_7   var_8   var_9  var_10   var_11   var_12   var_13  var_14  \\\n",
       "0  18.6266 -4.9200  5.7470  2.9252   3.1821  14.0137   0.5745  8.7989   \n",
       "1  16.5338  3.1468  8.0851 -0.4032   8.0585  14.0239   8.4135  5.4345   \n",
       "2  14.6155 -4.9193  5.9525 -0.3249 -11.2648  14.1929   7.3124  7.5244   \n",
       "3  14.9250 -5.8609  8.2450  2.3061   2.8102  13.8463  11.9704  6.4569   \n",
       "4  19.2514  6.2654  7.6784 -9.4458 -12.1419  13.8481   7.8895  7.7894   \n",
       "\n",
       "    var_15   var_16   var_17   var_18   var_19   var_20   var_21   var_22  \\\n",
       "0  14.5691   5.7487  -7.2393   4.2840  30.7133  10.5350  16.2191   2.5791   \n",
       "1  13.7003  13.8275 -15.5849   7.8000  28.5708   3.4287   2.7407   8.5524   \n",
       "2  14.6472   7.6782  -1.7395   4.7011  20.4775  17.7559  18.1377   1.2145   \n",
       "3  14.8372  10.7430  -0.4299  15.9426  13.7257  20.3010  12.5579   6.8202   \n",
       "4  15.0553   8.4871  -3.0680   6.5263  11.3152  21.4246  18.9608  10.1102   \n",
       "\n",
       "   var_23   var_24   var_25   var_26  var_27  var_28  \n",
       "0  2.4716  14.3831  13.4325  -5.1488 -0.4073  4.9306  \n",
       "1  3.3716   6.9779  13.8910 -11.7684 -2.5586  5.0464  \n",
       "2  3.5137   5.6777  13.2177  -7.9940 -2.9029  5.8463  \n",
       "3  2.7229  12.1354  13.7367   0.8135 -0.9059  5.9070  \n",
       "4  2.7142  14.2080  13.5433   3.1736 -3.3423  5.9015  "
      ],
      "text/html": [
       "<div>\n",
       "<style scoped>\n",
       "    .dataframe tbody tr th:only-of-type {\n",
       "        vertical-align: middle;\n",
       "    }\n",
       "\n",
       "    .dataframe tbody tr th {\n",
       "        vertical-align: top;\n",
       "    }\n",
       "\n",
       "    .dataframe thead th {\n",
       "        text-align: right;\n",
       "    }\n",
       "</style>\n",
       "<table border=\"1\" class=\"dataframe\">\n",
       "  <thead>\n",
       "    <tr style=\"text-align: right;\">\n",
       "      <th></th>\n",
       "      <th>ID_code</th>\n",
       "      <th>var_0</th>\n",
       "      <th>var_1</th>\n",
       "      <th>var_2</th>\n",
       "      <th>var_3</th>\n",
       "      <th>var_4</th>\n",
       "      <th>var_5</th>\n",
       "      <th>var_6</th>\n",
       "      <th>var_7</th>\n",
       "      <th>var_8</th>\n",
       "      <th>var_9</th>\n",
       "      <th>var_10</th>\n",
       "      <th>var_11</th>\n",
       "      <th>var_12</th>\n",
       "      <th>var_13</th>\n",
       "      <th>var_14</th>\n",
       "      <th>var_15</th>\n",
       "      <th>var_16</th>\n",
       "      <th>var_17</th>\n",
       "      <th>var_18</th>\n",
       "      <th>var_19</th>\n",
       "      <th>var_20</th>\n",
       "      <th>var_21</th>\n",
       "      <th>var_22</th>\n",
       "      <th>var_23</th>\n",
       "      <th>var_24</th>\n",
       "      <th>var_25</th>\n",
       "      <th>var_26</th>\n",
       "      <th>var_27</th>\n",
       "      <th>var_28</th>\n",
       "    </tr>\n",
       "  </thead>\n",
       "  <tbody>\n",
       "    <tr>\n",
       "      <th>0</th>\n",
       "      <td>train_0</td>\n",
       "      <td>8.9255</td>\n",
       "      <td>-6.7863</td>\n",
       "      <td>11.9081</td>\n",
       "      <td>5.0930</td>\n",
       "      <td>11.4607</td>\n",
       "      <td>-9.2834</td>\n",
       "      <td>5.1187</td>\n",
       "      <td>18.6266</td>\n",
       "      <td>-4.9200</td>\n",
       "      <td>5.7470</td>\n",
       "      <td>2.9252</td>\n",
       "      <td>3.1821</td>\n",
       "      <td>14.0137</td>\n",
       "      <td>0.5745</td>\n",
       "      <td>8.7989</td>\n",
       "      <td>14.5691</td>\n",
       "      <td>5.7487</td>\n",
       "      <td>-7.2393</td>\n",
       "      <td>4.2840</td>\n",
       "      <td>30.7133</td>\n",
       "      <td>10.5350</td>\n",
       "      <td>16.2191</td>\n",
       "      <td>2.5791</td>\n",
       "      <td>2.4716</td>\n",
       "      <td>14.3831</td>\n",
       "      <td>13.4325</td>\n",
       "      <td>-5.1488</td>\n",
       "      <td>-0.4073</td>\n",
       "      <td>4.9306</td>\n",
       "    </tr>\n",
       "    <tr>\n",
       "      <th>1</th>\n",
       "      <td>train_1</td>\n",
       "      <td>11.5006</td>\n",
       "      <td>-4.1473</td>\n",
       "      <td>13.8588</td>\n",
       "      <td>5.3890</td>\n",
       "      <td>12.3622</td>\n",
       "      <td>7.0433</td>\n",
       "      <td>5.6208</td>\n",
       "      <td>16.5338</td>\n",
       "      <td>3.1468</td>\n",
       "      <td>8.0851</td>\n",
       "      <td>-0.4032</td>\n",
       "      <td>8.0585</td>\n",
       "      <td>14.0239</td>\n",
       "      <td>8.4135</td>\n",
       "      <td>5.4345</td>\n",
       "      <td>13.7003</td>\n",
       "      <td>13.8275</td>\n",
       "      <td>-15.5849</td>\n",
       "      <td>7.8000</td>\n",
       "      <td>28.5708</td>\n",
       "      <td>3.4287</td>\n",
       "      <td>2.7407</td>\n",
       "      <td>8.5524</td>\n",
       "      <td>3.3716</td>\n",
       "      <td>6.9779</td>\n",
       "      <td>13.8910</td>\n",
       "      <td>-11.7684</td>\n",
       "      <td>-2.5586</td>\n",
       "      <td>5.0464</td>\n",
       "    </tr>\n",
       "    <tr>\n",
       "      <th>2</th>\n",
       "      <td>train_2</td>\n",
       "      <td>8.6093</td>\n",
       "      <td>-2.7457</td>\n",
       "      <td>12.0805</td>\n",
       "      <td>7.8928</td>\n",
       "      <td>10.5825</td>\n",
       "      <td>-9.0837</td>\n",
       "      <td>6.9427</td>\n",
       "      <td>14.6155</td>\n",
       "      <td>-4.9193</td>\n",
       "      <td>5.9525</td>\n",
       "      <td>-0.3249</td>\n",
       "      <td>-11.2648</td>\n",
       "      <td>14.1929</td>\n",
       "      <td>7.3124</td>\n",
       "      <td>7.5244</td>\n",
       "      <td>14.6472</td>\n",
       "      <td>7.6782</td>\n",
       "      <td>-1.7395</td>\n",
       "      <td>4.7011</td>\n",
       "      <td>20.4775</td>\n",
       "      <td>17.7559</td>\n",
       "      <td>18.1377</td>\n",
       "      <td>1.2145</td>\n",
       "      <td>3.5137</td>\n",
       "      <td>5.6777</td>\n",
       "      <td>13.2177</td>\n",
       "      <td>-7.9940</td>\n",
       "      <td>-2.9029</td>\n",
       "      <td>5.8463</td>\n",
       "    </tr>\n",
       "    <tr>\n",
       "      <th>3</th>\n",
       "      <td>train_3</td>\n",
       "      <td>11.0604</td>\n",
       "      <td>-2.1518</td>\n",
       "      <td>8.9522</td>\n",
       "      <td>7.1957</td>\n",
       "      <td>12.5846</td>\n",
       "      <td>-1.8361</td>\n",
       "      <td>5.8428</td>\n",
       "      <td>14.9250</td>\n",
       "      <td>-5.8609</td>\n",
       "      <td>8.2450</td>\n",
       "      <td>2.3061</td>\n",
       "      <td>2.8102</td>\n",
       "      <td>13.8463</td>\n",
       "      <td>11.9704</td>\n",
       "      <td>6.4569</td>\n",
       "      <td>14.8372</td>\n",
       "      <td>10.7430</td>\n",
       "      <td>-0.4299</td>\n",
       "      <td>15.9426</td>\n",
       "      <td>13.7257</td>\n",
       "      <td>20.3010</td>\n",
       "      <td>12.5579</td>\n",
       "      <td>6.8202</td>\n",
       "      <td>2.7229</td>\n",
       "      <td>12.1354</td>\n",
       "      <td>13.7367</td>\n",
       "      <td>0.8135</td>\n",
       "      <td>-0.9059</td>\n",
       "      <td>5.9070</td>\n",
       "    </tr>\n",
       "    <tr>\n",
       "      <th>4</th>\n",
       "      <td>train_4</td>\n",
       "      <td>9.8369</td>\n",
       "      <td>-1.4834</td>\n",
       "      <td>12.8746</td>\n",
       "      <td>6.6375</td>\n",
       "      <td>12.2772</td>\n",
       "      <td>2.4486</td>\n",
       "      <td>5.9405</td>\n",
       "      <td>19.2514</td>\n",
       "      <td>6.2654</td>\n",
       "      <td>7.6784</td>\n",
       "      <td>-9.4458</td>\n",
       "      <td>-12.1419</td>\n",
       "      <td>13.8481</td>\n",
       "      <td>7.8895</td>\n",
       "      <td>7.7894</td>\n",
       "      <td>15.0553</td>\n",
       "      <td>8.4871</td>\n",
       "      <td>-3.0680</td>\n",
       "      <td>6.5263</td>\n",
       "      <td>11.3152</td>\n",
       "      <td>21.4246</td>\n",
       "      <td>18.9608</td>\n",
       "      <td>10.1102</td>\n",
       "      <td>2.7142</td>\n",
       "      <td>14.2080</td>\n",
       "      <td>13.5433</td>\n",
       "      <td>3.1736</td>\n",
       "      <td>-3.3423</td>\n",
       "      <td>5.9015</td>\n",
       "    </tr>\n",
       "  </tbody>\n",
       "</table>\n",
       "</div>"
      ]
     },
     "execution_count": 3,
     "metadata": {},
     "output_type": "execute_result"
    }
   ],
   "execution_count": 3
  },
  {
   "metadata": {
    "ExecuteTime": {
     "end_time": "2024-08-13T16:46:49.388746Z",
     "start_time": "2024-08-13T16:46:49.347629Z"
    }
   },
   "cell_type": "code",
   "source": "train.info()",
   "id": "d66ea8218f65b206",
   "outputs": [
    {
     "name": "stdout",
     "output_type": "stream",
     "text": [
      "<class 'pandas.core.frame.DataFrame'>\n",
      "RangeIndex: 200000 entries, 0 to 199999\n",
      "Data columns (total 30 columns):\n",
      " #   Column   Non-Null Count   Dtype  \n",
      "---  ------   --------------   -----  \n",
      " 0   ID_code  200000 non-null  object \n",
      " 1   var_0    200000 non-null  float64\n",
      " 2   var_1    200000 non-null  float64\n",
      " 3   var_2    200000 non-null  float64\n",
      " 4   var_3    200000 non-null  float64\n",
      " 5   var_4    200000 non-null  float64\n",
      " 6   var_5    200000 non-null  float64\n",
      " 7   var_6    200000 non-null  float64\n",
      " 8   var_7    200000 non-null  float64\n",
      " 9   var_8    200000 non-null  float64\n",
      " 10  var_9    200000 non-null  float64\n",
      " 11  var_10   200000 non-null  float64\n",
      " 12  var_11   200000 non-null  float64\n",
      " 13  var_12   200000 non-null  float64\n",
      " 14  var_13   200000 non-null  float64\n",
      " 15  var_14   200000 non-null  float64\n",
      " 16  var_15   200000 non-null  float64\n",
      " 17  var_16   200000 non-null  float64\n",
      " 18  var_17   200000 non-null  float64\n",
      " 19  var_18   200000 non-null  float64\n",
      " 20  var_19   200000 non-null  float64\n",
      " 21  var_20   200000 non-null  float64\n",
      " 22  var_21   200000 non-null  float64\n",
      " 23  var_22   200000 non-null  float64\n",
      " 24  var_23   200000 non-null  float64\n",
      " 25  var_24   200000 non-null  float64\n",
      " 26  var_25   200000 non-null  float64\n",
      " 27  var_26   200000 non-null  float64\n",
      " 28  var_27   200000 non-null  float64\n",
      " 29  var_28   200000 non-null  float64\n",
      "dtypes: float64(29), object(1)\n",
      "memory usage: 45.8+ MB\n"
     ]
    }
   ],
   "execution_count": 4
  },
  {
   "metadata": {
    "ExecuteTime": {
     "end_time": "2024-08-13T16:46:49.421545Z",
     "start_time": "2024-08-13T16:46:49.392987Z"
    }
   },
   "cell_type": "code",
   "source": "train.isna().mean().mean()",
   "id": "5d268e249e4ae8c",
   "outputs": [
    {
     "data": {
      "text/plain": [
       "0.0"
      ]
     },
     "execution_count": 5,
     "metadata": {},
     "output_type": "execute_result"
    }
   ],
   "execution_count": 5
  },
  {
   "metadata": {
    "ExecuteTime": {
     "end_time": "2024-08-13T16:46:50.572046Z",
     "start_time": "2024-08-13T16:46:49.422687Z"
    }
   },
   "cell_type": "code",
   "source": "data, identifiers, df_pca = pca_data(train, 'ID_code', 20, True)",
   "id": "91fd46c516af20a5",
   "outputs": [
    {
     "name": "stdout",
     "output_type": "stream",
     "text": [
      "PCA Result -  0.6942020507499117\n",
      "Outlier is point if it is outlier in 1.0 Features\n"
     ]
    }
   ],
   "execution_count": 6
  },
  {
   "metadata": {
    "ExecuteTime": {
     "end_time": "2024-08-13T16:48:18.096406Z",
     "start_time": "2024-08-13T16:46:50.574027Z"
    }
   },
   "cell_type": "code",
   "source": "diff_clusters = cluster_in_range(df_pca, identifiers, range(1, 10))",
   "id": "3615342b74869a25",
   "outputs": [
    {
     "data": {
      "text/plain": [
       "<Figure size 640x480 with 1 Axes>"
      ],
      "image/png": "[encoded data removed]"
     },
     "metadata": {},
     "output_type": "display_data"
    }
   ],
   "execution_count": 7
  },
  {
   "metadata": {
    "ExecuteTime": {
     "end_time": "2024-08-13T16:50:42.146017Z",
     "start_time": "2024-08-13T16:48:18.097402Z"
    }
   },
   "cell_type": "code",
   "source": [
    "from classes.ClusterDescriptionsNew import ClusterDescriptionsNew\n",
    "\n",
    "cluster_desc_new = ClusterDescriptionsNew(data, df_pca, identifiers, range(2, 10), 'santander_transaction')\n",
    "\n",
    "cluster_desc_new.describe_clusters()"
   ],
   "id": "e31f41bc9b69315b",
   "outputs": [
    {
     "name": "stdout",
     "output_type": "stream",
     "text": [
      "<-- Results for 2 clusters -->\n",
      "Train F1-score: Weighted 0.5645, Macro 0.5643\n",
      "Train ROC AUC: Weighted 0.7144, Macro 0.7144\n",
      "Test F1-score: Weighted 0.5626, Macro 0.5623\n",
      "Test ROC AUC: Weighted 0.7111, Macro 0.7111\n",
      "\n",
      "<-- Results for 3 clusters -->\n",
      "Train F1-score: Weighted 0.6137, Macro 0.6099\n",
      "Train ROC AUC: Weighted 0.8096, Macro 0.8075\n",
      "Test F1-score: Weighted 0.6150, Macro 0.6108\n",
      "Test ROC AUC: Weighted 0.8082, Macro 0.8058\n",
      "\n",
      "<-- Results for 4 clusters -->\n",
      "Train F1-score: Weighted 0.5159, Macro 0.5145\n",
      "Train ROC AUC: Weighted 0.7723, Macro 0.7703\n",
      "Test F1-score: Weighted 0.5162, Macro 0.5148\n",
      "Test ROC AUC: Weighted 0.7716, Macro 0.7696\n",
      "\n",
      "<-- Results for 5 clusters -->\n",
      "Train F1-score: Weighted 0.4327, Macro 0.4325\n",
      "Train ROC AUC: Weighted 0.7630, Macro 0.7629\n",
      "Test F1-score: Weighted 0.4286, Macro 0.4288\n",
      "Test ROC AUC: Weighted 0.7618, Macro 0.7617\n",
      "\n",
      "<-- Results for 6 clusters -->\n",
      "Train F1-score: Weighted 0.2467, Macro 0.2513\n",
      "Train ROC AUC: Weighted 0.7133, Macro 0.7143\n",
      "Test F1-score: Weighted 0.2468, Macro 0.2507\n",
      "Test ROC AUC: Weighted 0.7120, Macro 0.7131\n",
      "\n",
      "<-- Results for 7 clusters -->\n",
      "Train F1-score: Weighted 0.0788, Macro 0.0815\n",
      "Train ROC AUC: Weighted 0.6813, Macro 0.6820\n",
      "Test F1-score: Weighted 0.0785, Macro 0.0815\n",
      "Test ROC AUC: Weighted 0.6794, Macro 0.6801\n",
      "\n",
      "<-- Results for 8 clusters -->\n",
      "Train F1-score: Weighted 0.0720, Macro 0.0726\n",
      "Train ROC AUC: Weighted 0.6623, Macro 0.6626\n",
      "Test F1-score: Weighted 0.0694, Macro 0.0712\n",
      "Test ROC AUC: Weighted 0.6604, Macro 0.6613\n",
      "\n",
      "<-- Results for 9 clusters -->\n",
      "Train F1-score: Weighted 0.1242, Macro 0.1250\n",
      "Train ROC AUC: Weighted 0.6760, Macro 0.6762\n",
      "Test F1-score: Weighted 0.1231, Macro 0.1234\n",
      "Test ROC AUC: Weighted 0.6737, Macro 0.6741\n",
      "\n"
     ]
    }
   ],
   "execution_count": 8
  },
  {
   "metadata": {
    "ExecuteTime": {
     "end_time": "2024-08-13T16:52:01.449147Z",
     "start_time": "2024-08-13T16:50:42.148017Z"
    }
   },
   "cell_type": "code",
   "source": [
    "from classes.MultiClassClusterDescriptions import MultiClassClusterDescriptions\n",
    "\n",
    "# Initialize the MultiClassClusterDescriptions object\n",
    "multi_cluster_desc = MultiClassClusterDescriptions(data, df_pca, identifiers, range(2, 10), 'santander_transaction')\n",
    "\n",
    "# Generate descriptions for all clusters\n",
    "multi_cluster_desc.describe_clusters()"
   ],
   "id": "7844a1e826cd7834",
   "outputs": [
    {
     "name": "stdout",
     "output_type": "stream",
     "text": [
      "<-- Results for 2 clusters -->\n",
      "Train F1-score: Weighted 0.6365, Macro 0.6348\n",
      "Train ROC AUC: Weighted 0.7144, Macro 0.7144\n",
      "Test F1-score: Weighted 0.6354, Macro 0.6333\n",
      "Test ROC AUC: Weighted 0.7111, Macro 0.7111\n",
      "\n",
      "<-- Results for 3 clusters -->\n",
      "Train F1-score: Weighted 0.6441, Macro 0.6398\n",
      "Train ROC AUC: Weighted 0.7889, Macro 0.7858\n",
      "Test F1-score: Weighted 0.6440, Macro 0.6394\n",
      "Test ROC AUC: Weighted 0.7904, Macro 0.7871\n",
      "\n",
      "<-- Results for 4 clusters -->\n",
      "Train F1-score: Weighted 0.5492, Macro 0.5459\n",
      "Train ROC AUC: Weighted 0.7658, Macro 0.7642\n",
      "Test F1-score: Weighted 0.5481, Macro 0.5450\n",
      "Test ROC AUC: Weighted 0.7649, Macro 0.7634\n",
      "\n",
      "<-- Results for 5 clusters -->\n",
      "Train F1-score: Weighted 0.4535, Macro 0.4490\n",
      "Train ROC AUC: Weighted 0.7403, Macro 0.7386\n",
      "Test F1-score: Weighted 0.4489, Macro 0.4451\n",
      "Test ROC AUC: Weighted 0.7378, Macro 0.7364\n",
      "\n",
      "<-- Results for 6 clusters -->\n",
      "Train F1-score: Weighted 0.3515, Macro 0.3523\n",
      "Train ROC AUC: Weighted 0.7024, Macro 0.7025\n",
      "Test F1-score: Weighted 0.3476, Macro 0.3492\n",
      "Test ROC AUC: Weighted 0.7019, Macro 0.7022\n",
      "\n",
      "<-- Results for 7 clusters -->\n",
      "Train F1-score: Weighted 0.2396, Macro 0.2420\n",
      "Train ROC AUC: Weighted 0.6754, Macro 0.6763\n",
      "Test F1-score: Weighted 0.2405, Macro 0.2429\n",
      "Test ROC AUC: Weighted 0.6746, Macro 0.6756\n",
      "\n",
      "<-- Results for 8 clusters -->\n",
      "Train F1-score: Weighted 0.2115, Macro 0.2112\n",
      "Train ROC AUC: Weighted 0.6590, Macro 0.6588\n",
      "Test F1-score: Weighted 0.2102, Macro 0.2101\n",
      "Test ROC AUC: Weighted 0.6577, Macro 0.6577\n",
      "\n",
      "<-- Results for 9 clusters -->\n",
      "Train F1-score: Weighted 0.1994, Macro 0.1991\n",
      "Train ROC AUC: Weighted 0.6523, Macro 0.6522\n",
      "Test F1-score: Weighted 0.1965, Macro 0.1965\n",
      "Test ROC AUC: Weighted 0.6503, Macro 0.6504\n",
      "\n"
     ]
    }
   ],
   "execution_count": 9
  },
  {
   "metadata": {
    "ExecuteTime": {
     "end_time": "2024-08-13T16:52:10.633369Z",
     "start_time": "2024-08-13T16:52:01.450174Z"
    }
   },
   "cell_type": "code",
   "source": "multi_cluster_desc.plot_all_trees()",
   "id": "86f490d0fa9d1f79",
   "outputs": [],
   "execution_count": 10
  },
  {
   "metadata": {
    "ExecuteTime": {
     "end_time": "2024-08-13T16:52:10.641871Z",
     "start_time": "2024-08-13T16:52:10.634368Z"
    }
   },
   "cell_type": "code",
   "source": "multi_cluster_desc.descriptions[4]",
   "id": "638778b99b2c0336",
   "outputs": [
    {
     "data": {
      "text/plain": [
       "{0: {'query': 'var_8 <= -1.104800. var_2 <= 12.101950.',\n",
       "  'train_metrics': {'f1': 0.6936578704261558, 'roc_auc': 0.8395543680920553},\n",
       "  'test_metrics': {'f1': 0.693673740587122, 'roc_auc': 0.8374001720132617}},\n",
       " 1: {'query': 'var_8 > -1.104800. var_2 > 12.137050.',\n",
       "  'train_metrics': {'f1': 0.46457059679767104, 'roc_auc': 0.7356694870961384},\n",
       "  'test_metrics': {'f1': 0.46855418890693895, 'roc_auc': 0.7344343146133232}},\n",
       " 2: {'query': 'var_8 > -1.104800. var_2 <= 12.137050. var_9 > 7.520150.',\n",
       "  'train_metrics': {'f1': 0.5186993760415456, 'roc_auc': 0.7525485379861875},\n",
       "  'test_metrics': {'f1': 0.5138421733505821, 'roc_auc': 0.7510995213780067}},\n",
       " 3: {'query': 'var_8 > -1.104800. var_2 <= 12.137050. var_9 <= 7.520150.',\n",
       "  'train_metrics': {'f1': 0.5064847357177313, 'roc_auc': 0.7291672009951493},\n",
       "  'test_metrics': {'f1': 0.5039075399009356, 'roc_auc': 0.7307392450094415}}}"
      ]
     },
     "execution_count": 11,
     "metadata": {},
     "output_type": "execute_result"
    }
   ],
   "execution_count": 11
  },
  {
   "metadata": {},
   "cell_type": "markdown",
   "source": "# Test Without PCA",
   "id": "cc8a671ed1bf424e"
  },
  {
   "metadata": {
    "ExecuteTime": {
     "end_time": "2024-08-13T16:52:10.763399Z",
     "start_time": "2024-08-13T16:52:10.643870Z"
    }
   },
   "cell_type": "code",
   "source": [
    "from sklearn.preprocessing import StandardScaler\n",
    "\n",
    "s = StandardScaler()\n",
    "scaled_data = s.fit_transform(data)\n",
    "df_scaled = pd.DataFrame(scaled_data)"
   ],
   "id": "193f2d7d559cac5b",
   "outputs": [],
   "execution_count": 12
  },
  {
   "metadata": {
    "ExecuteTime": {
     "end_time": "2024-08-13T16:53:48.282706Z",
     "start_time": "2024-08-13T16:52:10.764392Z"
    }
   },
   "cell_type": "code",
   "source": [
    "# Initialize the MultiClassClusterDescriptions object\n",
    "multi_cluster_desc_2 = MultiClassClusterDescriptions(data, df_scaled, identifiers, range(2, 10), 'santander_transaction')\n",
    "\n",
    "# Generate descriptions for all clusters\n",
    "multi_cluster_desc_2.describe_clusters()"
   ],
   "id": "889630ecb0d85752",
   "outputs": [
    {
     "name": "stdout",
     "output_type": "stream",
     "text": [
      "<-- Results for 2 clusters -->\n",
      "Train F1-score: Weighted 0.9744, Macro 0.9743\n",
      "Train ROC AUC: Weighted 0.9743, Macro 0.9743\n",
      "Test F1-score: Weighted 0.9738, Macro 0.9737\n",
      "Test ROC AUC: Weighted 0.9737, Macro 0.9737\n",
      "\n",
      "<-- Results for 3 clusters -->\n",
      "Train F1-score: Weighted 0.8751, Macro 0.8747\n",
      "Train ROC AUC: Weighted 0.9532, Macro 0.9530\n",
      "Test F1-score: Weighted 0.8726, Macro 0.8724\n",
      "Test ROC AUC: Weighted 0.9524, Macro 0.9523\n",
      "\n",
      "<-- Results for 4 clusters -->\n",
      "Train F1-score: Weighted 0.8356, Macro 0.8359\n",
      "Train ROC AUC: Weighted 0.9274, Macro 0.9274\n",
      "Test F1-score: Weighted 0.8343, Macro 0.8345\n",
      "Test ROC AUC: Weighted 0.9260, Macro 0.9260\n",
      "\n",
      "<-- Results for 5 clusters -->\n",
      "Train F1-score: Weighted 0.6778, Macro 0.6706\n",
      "Train ROC AUC: Weighted 0.8861, Macro 0.8841\n",
      "Test F1-score: Weighted 0.6789, Macro 0.6717\n",
      "Test ROC AUC: Weighted 0.8859, Macro 0.8839\n",
      "\n",
      "<-- Results for 6 clusters -->\n",
      "Train F1-score: Weighted 0.5006, Macro 0.4936\n",
      "Train ROC AUC: Weighted 0.8103, Macro 0.8079\n",
      "Test F1-score: Weighted 0.4947, Macro 0.4899\n",
      "Test ROC AUC: Weighted 0.8052, Macro 0.8035\n",
      "\n",
      "<-- Results for 7 clusters -->\n",
      "Train F1-score: Weighted 0.3516, Macro 0.3513\n",
      "Train ROC AUC: Weighted 0.7408, Macro 0.7407\n",
      "Test F1-score: Weighted 0.3438, Macro 0.3474\n",
      "Test ROC AUC: Weighted 0.7363, Macro 0.7375\n",
      "\n",
      "<-- Results for 8 clusters -->\n",
      "Train F1-score: Weighted 0.2925, Macro 0.2951\n",
      "Train ROC AUC: Weighted 0.7115, Macro 0.7127\n",
      "Test F1-score: Weighted 0.2891, Macro 0.2923\n",
      "Test ROC AUC: Weighted 0.7094, Macro 0.7105\n",
      "\n",
      "<-- Results for 9 clusters -->\n",
      "Train F1-score: Weighted 0.2553, Macro 0.2599\n",
      "Train ROC AUC: Weighted 0.6938, Macro 0.6957\n",
      "Test F1-score: Weighted 0.2536, Macro 0.2608\n",
      "Test ROC AUC: Weighted 0.6915, Macro 0.6943\n",
      "\n"
     ]
    }
   ],
   "execution_count": 13
  },
  {
   "metadata": {
    "ExecuteTime": {
     "end_time": "2024-08-13T16:56:09.758742Z",
     "start_time": "2024-08-13T16:53:48.285725Z"
    }
   },
   "cell_type": "code",
   "source": [
    "# Initialize the MultiClassClusterDescriptions object\n",
    "cluster_desc_2 = ClusterDescriptionsNew(data, df_scaled, identifiers, range(2, 10), 'santander_transaction')\n",
    "\n",
    "# Generate descriptions for all clusters\n",
    "cluster_desc_2.describe_clusters()"
   ],
   "id": "adb242bdf4809d5b",
   "outputs": [
    {
     "name": "stdout",
     "output_type": "stream",
     "text": [
      "<-- Results for 2 clusters -->\n",
      "Train F1-score: Weighted 0.9744, Macro 0.9743\n",
      "Train ROC AUC: Weighted 0.9743, Macro 0.9743\n",
      "Test F1-score: Weighted 0.9738, Macro 0.9737\n",
      "Test ROC AUC: Weighted 0.9737, Macro 0.9737\n",
      "\n",
      "<-- Results for 3 clusters -->\n",
      "Train F1-score: Weighted 0.8890, Macro 0.8888\n",
      "Train ROC AUC: Weighted 0.9457, Macro 0.9459\n",
      "Test F1-score: Weighted 0.8862, Macro 0.8861\n",
      "Test ROC AUC: Weighted 0.9443, Macro 0.9444\n",
      "\n",
      "<-- Results for 4 clusters -->\n",
      "Train F1-score: Weighted 0.8172, Macro 0.8182\n",
      "Train ROC AUC: Weighted 0.9403, Macro 0.9400\n",
      "Test F1-score: Weighted 0.8123, Macro 0.8132\n",
      "Test ROC AUC: Weighted 0.9377, Macro 0.9374\n",
      "\n",
      "<-- Results for 5 clusters -->\n",
      "Train F1-score: Weighted 0.7485, Macro 0.7453\n",
      "Train ROC AUC: Weighted 0.8884, Macro 0.8881\n",
      "Test F1-score: Weighted 0.7463, Macro 0.7432\n",
      "Test ROC AUC: Weighted 0.8879, Macro 0.8876\n",
      "\n",
      "<-- Results for 6 clusters -->\n",
      "Train F1-score: Weighted 0.5380, Macro 0.5329\n",
      "Train ROC AUC: Weighted 0.8305, Macro 0.8294\n",
      "Test F1-score: Weighted 0.5320, Macro 0.5289\n",
      "Test ROC AUC: Weighted 0.8293, Macro 0.8285\n",
      "\n",
      "<-- Results for 7 clusters -->\n",
      "Train F1-score: Weighted 0.4708, Macro 0.4767\n",
      "Train ROC AUC: Weighted 0.8179, Macro 0.8187\n",
      "Test F1-score: Weighted 0.4685, Macro 0.4742\n",
      "Test ROC AUC: Weighted 0.8163, Macro 0.8172\n",
      "\n",
      "<-- Results for 8 clusters -->\n",
      "Train F1-score: Weighted 0.4000, Macro 0.4091\n",
      "Train ROC AUC: Weighted 0.7692, Macro 0.7703\n",
      "Test F1-score: Weighted 0.3990, Macro 0.4081\n",
      "Test ROC AUC: Weighted 0.7686, Macro 0.7695\n",
      "\n",
      "<-- Results for 9 clusters -->\n",
      "Train F1-score: Weighted 0.3475, Macro 0.3537\n",
      "Train ROC AUC: Weighted 0.7387, Macro 0.7402\n",
      "Test F1-score: Weighted 0.3463, Macro 0.3539\n",
      "Test ROC AUC: Weighted 0.7380, Macro 0.7398\n",
      "\n"
     ]
    }
   ],
   "execution_count": 14
  },
  {
   "metadata": {},
   "cell_type": "markdown",
   "source": "# Evaluate Test Set",
   "id": "2feec118dea93c86"
  },
  {
   "metadata": {
    "ExecuteTime": {
     "end_time": "2024-08-13T16:56:10.498214Z",
     "start_time": "2024-08-13T16:56:09.759743Z"
    }
   },
   "cell_type": "code",
   "source": "test = pd.read_csv(DATA_FOLDER + 'test.csv')",
   "id": "1c0265550403550e",
   "outputs": [],
   "execution_count": 15
  },
  {
   "metadata": {
    "ExecuteTime": {
     "end_time": "2024-08-13T16:56:10.525749Z",
     "start_time": "2024-08-13T16:56:10.499249Z"
    }
   },
   "cell_type": "code",
   "source": "test.head()",
   "id": "1d53fcc0bba88f31",
   "outputs": [
    {
     "data": {
      "text/plain": [
       "  ID_code    var_0    var_1    var_2   var_3    var_4   var_5   var_6  \\\n",
       "0  test_0  11.0656   7.7798  12.9536  9.4292  11.4327 -2.3805  5.8493   \n",
       "1  test_1   8.5304   1.2543  11.3047  5.1858   9.1974 -4.0117  6.0196   \n",
       "2  test_2   5.4827 -10.3581  10.1407  7.0479  10.2628  9.8052  4.8950   \n",
       "3  test_3   8.5374  -1.3222  12.0220  6.5749   8.8458  3.1744  4.9397   \n",
       "4  test_4  11.7058  -0.1327  14.1295  7.7506   9.1035 -8.5848  6.8595   \n",
       "\n",
       "     var_7   var_8   var_9  var_10  var_11   var_12   var_13   var_14  \\\n",
       "0  18.2675  2.1337  8.8100 -2.0248 -4.3554  13.9696   0.3458   7.5408   \n",
       "1  18.6316 -4.4131  5.9739 -1.3809 -0.3310  14.1129   2.5667   5.4988   \n",
       "2  20.2537  1.5233  8.3442 -4.7057 -3.0422  13.6751   3.8183  10.8535   \n",
       "3  20.5660  3.3755  7.4578  0.0095 -5.0659  14.0526  13.5010   8.7660   \n",
       "4  10.6048  2.9890  7.1437  5.1025 -3.2827  14.1013   8.9672   4.7276   \n",
       "\n",
       "    var_15   var_16   var_17   var_18   var_19   var_20   var_21  var_22  \\\n",
       "0  14.5001   7.7028 -19.0919  15.5806  16.1763   3.7088  18.8064  1.5899   \n",
       "1  14.1853   7.0196   4.6564  29.1609   0.0910  12.1469   3.1389  5.2578   \n",
       "2  14.2126   9.8837   2.6541  21.2181  20.8163  12.4666  12.3696  4.7473   \n",
       "3  14.7352  10.0383 -15.3508   2.1273  21.4797  14.5372  12.5527  2.9707   \n",
       "4  14.5811  11.8615   3.1480  18.0126  13.8006   1.6026  16.3059  6.7954   \n",
       "\n",
       "   var_23   var_24   var_25   var_26  var_27  var_28  \n",
       "0  3.0654   6.4509  14.1192  -9.4902 -2.1917  5.7107  \n",
       "1  2.4228  16.2064  13.5023  -5.2341 -3.6648  5.7080  \n",
       "2  2.7936   5.2189  13.5670 -15.4246 -0.1655  7.2633  \n",
       "3  4.2398  13.7796  14.1408   1.0061 -1.3479  5.2570  \n",
       "4  3.6015  13.6569  13.8807   8.6228 -2.2654  5.2255  "
      ],
      "text/html": [
       "<div>\n",
       "<style scoped>\n",
       "    .dataframe tbody tr th:only-of-type {\n",
       "        vertical-align: middle;\n",
       "    }\n",
       "\n",
       "    .dataframe tbody tr th {\n",
       "        vertical-align: top;\n",
       "    }\n",
       "\n",
       "    .dataframe thead th {\n",
       "        text-align: right;\n",
       "    }\n",
       "</style>\n",
       "<table border=\"1\" class=\"dataframe\">\n",
       "  <thead>\n",
       "    <tr style=\"text-align: right;\">\n",
       "      <th></th>\n",
       "      <th>ID_code</th>\n",
       "      <th>var_0</th>\n",
       "      <th>var_1</th>\n",
       "      <th>var_2</th>\n",
       "      <th>var_3</th>\n",
       "      <th>var_4</th>\n",
       "      <th>var_5</th>\n",
       "      <th>var_6</th>\n",
       "      <th>var_7</th>\n",
       "      <th>var_8</th>\n",
       "      <th>var_9</th>\n",
       "      <th>var_10</th>\n",
       "      <th>var_11</th>\n",
       "      <th>var_12</th>\n",
       "      <th>var_13</th>\n",
       "      <th>var_14</th>\n",
       "      <th>var_15</th>\n",
       "      <th>var_16</th>\n",
       "      <th>var_17</th>\n",
       "      <th>var_18</th>\n",
       "      <th>var_19</th>\n",
       "      <th>var_20</th>\n",
       "      <th>var_21</th>\n",
       "      <th>var_22</th>\n",
       "      <th>var_23</th>\n",
       "      <th>var_24</th>\n",
       "      <th>var_25</th>\n",
       "      <th>var_26</th>\n",
       "      <th>var_27</th>\n",
       "      <th>var_28</th>\n",
       "    </tr>\n",
       "  </thead>\n",
       "  <tbody>\n",
       "    <tr>\n",
       "      <th>0</th>\n",
       "      <td>test_0</td>\n",
       "      <td>11.0656</td>\n",
       "      <td>7.7798</td>\n",
       "      <td>12.9536</td>\n",
       "      <td>9.4292</td>\n",
       "      <td>11.4327</td>\n",
       "      <td>-2.3805</td>\n",
       "      <td>5.8493</td>\n",
       "      <td>18.2675</td>\n",
       "      <td>2.1337</td>\n",
       "      <td>8.8100</td>\n",
       "      <td>-2.0248</td>\n",
       "      <td>-4.3554</td>\n",
       "      <td>13.9696</td>\n",
       "      <td>0.3458</td>\n",
       "      <td>7.5408</td>\n",
       "      <td>14.5001</td>\n",
       "      <td>7.7028</td>\n",
       "      <td>-19.0919</td>\n",
       "      <td>15.5806</td>\n",
       "      <td>16.1763</td>\n",
       "      <td>3.7088</td>\n",
       "      <td>18.8064</td>\n",
       "      <td>1.5899</td>\n",
       "      <td>3.0654</td>\n",
       "      <td>6.4509</td>\n",
       "      <td>14.1192</td>\n",
       "      <td>-9.4902</td>\n",
       "      <td>-2.1917</td>\n",
       "      <td>5.7107</td>\n",
       "    </tr>\n",
       "    <tr>\n",
       "      <th>1</th>\n",
       "      <td>test_1</td>\n",
       "      <td>8.5304</td>\n",
       "      <td>1.2543</td>\n",
       "      <td>11.3047</td>\n",
       "      <td>5.1858</td>\n",
       "      <td>9.1974</td>\n",
       "      <td>-4.0117</td>\n",
       "      <td>6.0196</td>\n",
       "      <td>18.6316</td>\n",
       "      <td>-4.4131</td>\n",
       "      <td>5.9739</td>\n",
       "      <td>-1.3809</td>\n",
       "      <td>-0.3310</td>\n",
       "      <td>14.1129</td>\n",
       "      <td>2.5667</td>\n",
       "      <td>5.4988</td>\n",
       "      <td>14.1853</td>\n",
       "      <td>7.0196</td>\n",
       "      <td>4.6564</td>\n",
       "      <td>29.1609</td>\n",
       "      <td>0.0910</td>\n",
       "      <td>12.1469</td>\n",
       "      <td>3.1389</td>\n",
       "      <td>5.2578</td>\n",
       "      <td>2.4228</td>\n",
       "      <td>16.2064</td>\n",
       "      <td>13.5023</td>\n",
       "      <td>-5.2341</td>\n",
       "      <td>-3.6648</td>\n",
       "      <td>5.7080</td>\n",
       "    </tr>\n",
       "    <tr>\n",
       "      <th>2</th>\n",
       "      <td>test_2</td>\n",
       "      <td>5.4827</td>\n",
       "      <td>-10.3581</td>\n",
       "      <td>10.1407</td>\n",
       "      <td>7.0479</td>\n",
       "      <td>10.2628</td>\n",
       "      <td>9.8052</td>\n",
       "      <td>4.8950</td>\n",
       "      <td>20.2537</td>\n",
       "      <td>1.5233</td>\n",
       "      <td>8.3442</td>\n",
       "      <td>-4.7057</td>\n",
       "      <td>-3.0422</td>\n",
       "      <td>13.6751</td>\n",
       "      <td>3.8183</td>\n",
       "      <td>10.8535</td>\n",
       "      <td>14.2126</td>\n",
       "      <td>9.8837</td>\n",
       "      <td>2.6541</td>\n",
       "      <td>21.2181</td>\n",
       "      <td>20.8163</td>\n",
       "      <td>12.4666</td>\n",
       "      <td>12.3696</td>\n",
       "      <td>4.7473</td>\n",
       "      <td>2.7936</td>\n",
       "      <td>5.2189</td>\n",
       "      <td>13.5670</td>\n",
       "      <td>-15.4246</td>\n",
       "      <td>-0.1655</td>\n",
       "      <td>7.2633</td>\n",
       "    </tr>\n",
       "    <tr>\n",
       "      <th>3</th>\n",
       "      <td>test_3</td>\n",
       "      <td>8.5374</td>\n",
       "      <td>-1.3222</td>\n",
       "      <td>12.0220</td>\n",
       "      <td>6.5749</td>\n",
       "      <td>8.8458</td>\n",
       "      <td>3.1744</td>\n",
       "      <td>4.9397</td>\n",
       "      <td>20.5660</td>\n",
       "      <td>3.3755</td>\n",
       "      <td>7.4578</td>\n",
       "      <td>0.0095</td>\n",
       "      <td>-5.0659</td>\n",
       "      <td>14.0526</td>\n",
       "      <td>13.5010</td>\n",
       "      <td>8.7660</td>\n",
       "      <td>14.7352</td>\n",
       "      <td>10.0383</td>\n",
       "      <td>-15.3508</td>\n",
       "      <td>2.1273</td>\n",
       "      <td>21.4797</td>\n",
       "      <td>14.5372</td>\n",
       "      <td>12.5527</td>\n",
       "      <td>2.9707</td>\n",
       "      <td>4.2398</td>\n",
       "      <td>13.7796</td>\n",
       "      <td>14.1408</td>\n",
       "      <td>1.0061</td>\n",
       "      <td>-1.3479</td>\n",
       "      <td>5.2570</td>\n",
       "    </tr>\n",
       "    <tr>\n",
       "      <th>4</th>\n",
       "      <td>test_4</td>\n",
       "      <td>11.7058</td>\n",
       "      <td>-0.1327</td>\n",
       "      <td>14.1295</td>\n",
       "      <td>7.7506</td>\n",
       "      <td>9.1035</td>\n",
       "      <td>-8.5848</td>\n",
       "      <td>6.8595</td>\n",
       "      <td>10.6048</td>\n",
       "      <td>2.9890</td>\n",
       "      <td>7.1437</td>\n",
       "      <td>5.1025</td>\n",
       "      <td>-3.2827</td>\n",
       "      <td>14.1013</td>\n",
       "      <td>8.9672</td>\n",
       "      <td>4.7276</td>\n",
       "      <td>14.5811</td>\n",
       "      <td>11.8615</td>\n",
       "      <td>3.1480</td>\n",
       "      <td>18.0126</td>\n",
       "      <td>13.8006</td>\n",
       "      <td>1.6026</td>\n",
       "      <td>16.3059</td>\n",
       "      <td>6.7954</td>\n",
       "      <td>3.6015</td>\n",
       "      <td>13.6569</td>\n",
       "      <td>13.8807</td>\n",
       "      <td>8.6228</td>\n",
       "      <td>-2.2654</td>\n",
       "      <td>5.2255</td>\n",
       "    </tr>\n",
       "  </tbody>\n",
       "</table>\n",
       "</div>"
      ]
     },
     "execution_count": 16,
     "metadata": {},
     "output_type": "execute_result"
    }
   ],
   "execution_count": 16
  },
  {
   "metadata": {
    "ExecuteTime": {
     "end_time": "2024-08-13T16:57:46.106366Z",
     "start_time": "2024-08-13T16:57:46.101802Z"
    }
   },
   "cell_type": "code",
   "source": "indexes = test.pop('ID_code')",
   "id": "6e6644b1c8bc4a91",
   "outputs": [],
   "execution_count": 18
  },
  {
   "metadata": {
    "ExecuteTime": {
     "end_time": "2024-08-13T16:57:47.022540Z",
     "start_time": "2024-08-13T16:57:46.854444Z"
    }
   },
   "cell_type": "code",
   "source": [
    "scaled_data = s.fit_transform(test)\n",
    "df_scaled = pd.DataFrame(scaled_data)"
   ],
   "id": "cd2f54fb48aa435d",
   "outputs": [],
   "execution_count": 19
  },
  {
   "metadata": {
    "ExecuteTime": {
     "end_time": "2024-08-13T16:57:48.906122Z",
     "start_time": "2024-08-13T16:57:47.851257Z"
    }
   },
   "cell_type": "code",
   "source": "multi_cluster_desc_2.evaluate(test, df_scaled, 4)",
   "id": "7e6507d857976b5b",
   "outputs": [
    {
     "data": {
      "text/plain": [
       "{'macro_f1': 0.8379699432757917,\n",
       " 'weighted_f1': 0.8376895926291743,\n",
       " 'macro_roc_auc': 0.9280802777575181,\n",
       " 'weighted_roc_auc': 0.9281380966114972,\n",
       " 'per_cluster_metrics': {0: {'f1': 0.8295027735385234,\n",
       "   'roc_auc': 0.9342193338601206},\n",
       "  1: {'f1': 0.8647257682022302, 'roc_auc': 0.9242953679194293},\n",
       "  2: {'f1': 0.8274879558035083, 'roc_auc': 0.9300323809936535},\n",
       "  3: {'f1': 0.8301632755589048, 'roc_auc': 0.9237740282568685}},\n",
       " 'test_labels': array([1, 0, 1, ..., 3, 1, 2]),\n",
       " 'y_pred': array([1, 0, 1, ..., 3, 1, 2])}"
      ]
     },
     "execution_count": 20,
     "metadata": {},
     "output_type": "execute_result"
    }
   ],
   "execution_count": 20
  },
  {
   "metadata": {
    "ExecuteTime": {
     "end_time": "2024-08-13T16:57:50.641778Z",
     "start_time": "2024-08-13T16:57:49.644610Z"
    }
   },
   "cell_type": "code",
   "source": "cluster_desc_2.evaluate(test, df_scaled, 4)",
   "id": "6d207f00bf0aa621",
   "outputs": [
    {
     "data": {
      "text/plain": [
       "{'macro_f1': 0.8180278437729653,\n",
       " 'weighted_f1': 0.8169849854992021,\n",
       " 'macro_roc_auc': 0.9397077626866741,\n",
       " 'weighted_roc_auc': 0.9400168943821849,\n",
       " 'per_cluster_metrics': [{'f1': 0.7317862426035503,\n",
       "   'roc_auc': 0.9555377412967567},\n",
       "  {'f1': 0.861033634126333, 'roc_auc': 0.9274974763626848},\n",
       "  {'f1': 0.840066336429756, 'roc_auc': 0.9263154987040761},\n",
       "  {'f1': 0.839225161932222, 'roc_auc': 0.949480334383179}],\n",
       " 'test_labels': array([1, 0, 1, ..., 3, 1, 2])}"
      ]
     },
     "execution_count": 21,
     "metadata": {},
     "output_type": "execute_result"
    }
   ],
   "execution_count": 21
  },
  {
   "metadata": {},
   "cell_type": "code",
   "source": "",
   "id": "bbb8219bfc49dcc7",
   "outputs": [],
   "execution_count": null
  }
 ],
 "metadata": {
  "kernelspec": {
   "display_name": "Python 3",
   "language": "python",
   "name": "python3"
  },
  "language_info": {
   "codemirror_mode": {
    "name": "ipython",
    "version": 2
   },
   "file_extension": ".py",
   "mimetype": "text/x-python",
   "name": "python",
   "nbconvert_exporter": "python",
   "pygments_lexer": "ipython2",
   "version": "2.7.6"
  }
 },
 "nbformat": 4,
 "nbformat_minor": 5
}
