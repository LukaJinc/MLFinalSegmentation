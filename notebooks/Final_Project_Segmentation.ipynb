{
 "cells": [
  {
   "cell_type": "code",
   "id": "5117b38d-b1e2-4786-acea-14396ad665da",
   "metadata": {
    "ExecuteTime": {
     "end_time": "2024-08-09T14:01:27.615263Z",
     "start_time": "2024-08-09T14:01:24.208012Z"
    }
   },
   "source": [
    "import pandas as pd\n",
    "import numpy as np\n",
    "\n",
    "from imblearn.under_sampling import RandomUnderSampler\n",
    "\n",
    "from utils import *\n",
    "pd.set_option('display.max_rows', 200)\n",
    "pd.set_option('display.max_columns', 200)\n",
    "\n",
    "DATA_FOLDER = '../data/'\n",
    "RANDOM_STATE = 8"
   ],
   "outputs": [],
   "execution_count": 1
  },
  {
   "cell_type": "markdown",
   "id": "6e40ba0e-ac3c-485c-bd51-99d5fcbf565e",
   "metadata": {},
   "source": [
    "# Data Description"
   ]
  },
  {
   "metadata": {
    "ExecuteTime": {
     "end_time": "2024-08-09T14:01:27.659926Z",
     "start_time": "2024-08-09T14:01:27.617236Z"
    }
   },
   "cell_type": "code",
   "source": "cc_df = pd.read_csv(DATA_FOLDER + 'CC General.csv')",
   "id": "2e55a5b4acad0d4a",
   "outputs": [],
   "execution_count": 2
  },
  {
   "metadata": {
    "ExecuteTime": {
     "end_time": "2024-08-09T14:01:27.687247Z",
     "start_time": "2024-08-09T14:01:27.661914Z"
    }
   },
   "cell_type": "code",
   "source": "cc_df.info()",
   "id": "faa80b5ddb2bcd7a",
   "outputs": [
    {
     "name": "stdout",
     "output_type": "stream",
     "text": [
      "<class 'pandas.core.frame.DataFrame'>\n",
      "RangeIndex: 8950 entries, 0 to 8949\n",
      "Data columns (total 18 columns):\n",
      " #   Column                            Non-Null Count  Dtype  \n",
      "---  ------                            --------------  -----  \n",
      " 0   CUST_ID                           8950 non-null   object \n",
      " 1   BALANCE                           8950 non-null   float64\n",
      " 2   BALANCE_FREQUENCY                 8950 non-null   float64\n",
      " 3   PURCHASES                         8950 non-null   float64\n",
      " 4   ONEOFF_PURCHASES                  8950 non-null   float64\n",
      " 5   INSTALLMENTS_PURCHASES            8950 non-null   float64\n",
      " 6   CASH_ADVANCE                      8950 non-null   float64\n",
      " 7   PURCHASES_FREQUENCY               8950 non-null   float64\n",
      " 8   ONEOFF_PURCHASES_FREQUENCY        8950 non-null   float64\n",
      " 9   PURCHASES_INSTALLMENTS_FREQUENCY  8950 non-null   float64\n",
      " 10  CASH_ADVANCE_FREQUENCY            8950 non-null   float64\n",
      " 11  CASH_ADVANCE_TRX                  8950 non-null   int64  \n",
      " 12  PURCHASES_TRX                     8950 non-null   int64  \n",
      " 13  CREDIT_LIMIT                      8949 non-null   float64\n",
      " 14  PAYMENTS                          8950 non-null   float64\n",
      " 15  MINIMUM_PAYMENTS                  8637 non-null   float64\n",
      " 16  PRC_FULL_PAYMENT                  8950 non-null   float64\n",
      " 17  TENURE                            8950 non-null   int64  \n",
      "dtypes: float64(14), int64(3), object(1)\n",
      "memory usage: 1.2+ MB\n"
     ]
    }
   ],
   "execution_count": 3
  },
  {
   "cell_type": "code",
   "id": "3d067042-22b7-4872-b702-88c7d9093a2a",
   "metadata": {
    "ExecuteTime": {
     "end_time": "2024-08-09T14:01:27.703657Z",
     "start_time": "2024-08-09T14:01:27.691313Z"
    }
   },
   "source": [
    "cc_df.shape"
   ],
   "outputs": [
    {
     "data": {
      "text/plain": [
       "(8950, 18)"
      ]
     },
     "execution_count": 4,
     "metadata": {},
     "output_type": "execute_result"
    }
   ],
   "execution_count": 4
  },
  {
   "cell_type": "code",
   "id": "a803de33-9f0d-4623-8725-1412bb528d17",
   "metadata": {
    "ExecuteTime": {
     "end_time": "2024-08-09T14:01:27.736328Z",
     "start_time": "2024-08-09T14:01:27.706647Z"
    }
   },
   "source": [
    "cc_df.head()"
   ],
   "outputs": [
    {
     "data": {
      "text/plain": [
       "  CUST_ID      BALANCE  BALANCE_FREQUENCY  PURCHASES  ONEOFF_PURCHASES  \\\n",
       "0  C10001    40.900749           0.818182      95.40              0.00   \n",
       "1  C10002  3202.467416           0.909091       0.00              0.00   \n",
       "2  C10003  2495.148862           1.000000     773.17            773.17   \n",
       "3  C10004  1666.670542           0.636364    1499.00           1499.00   \n",
       "4  C10005   817.714335           1.000000      16.00             16.00   \n",
       "\n",
       "   INSTALLMENTS_PURCHASES  CASH_ADVANCE  PURCHASES_FREQUENCY  \\\n",
       "0                    95.4      0.000000             0.166667   \n",
       "1                     0.0   6442.945483             0.000000   \n",
       "2                     0.0      0.000000             1.000000   \n",
       "3                     0.0    205.788017             0.083333   \n",
       "4                     0.0      0.000000             0.083333   \n",
       "\n",
       "   ONEOFF_PURCHASES_FREQUENCY  PURCHASES_INSTALLMENTS_FREQUENCY  \\\n",
       "0                    0.000000                          0.083333   \n",
       "1                    0.000000                          0.000000   \n",
       "2                    1.000000                          0.000000   \n",
       "3                    0.083333                          0.000000   \n",
       "4                    0.083333                          0.000000   \n",
       "\n",
       "   CASH_ADVANCE_FREQUENCY  CASH_ADVANCE_TRX  PURCHASES_TRX  CREDIT_LIMIT  \\\n",
       "0                0.000000                 0              2        1000.0   \n",
       "1                0.250000                 4              0        7000.0   \n",
       "2                0.000000                 0             12        7500.0   \n",
       "3                0.083333                 1              1        7500.0   \n",
       "4                0.000000                 0              1        1200.0   \n",
       "\n",
       "      PAYMENTS  MINIMUM_PAYMENTS  PRC_FULL_PAYMENT  TENURE  \n",
       "0   201.802084        139.509787          0.000000      12  \n",
       "1  4103.032597       1072.340217          0.222222      12  \n",
       "2   622.066742        627.284787          0.000000      12  \n",
       "3     0.000000               NaN          0.000000      12  \n",
       "4   678.334763        244.791237          0.000000      12  "
      ],
      "text/html": [
       "<div>\n",
       "<style scoped>\n",
       "    .dataframe tbody tr th:only-of-type {\n",
       "        vertical-align: middle;\n",
       "    }\n",
       "\n",
       "    .dataframe tbody tr th {\n",
       "        vertical-align: top;\n",
       "    }\n",
       "\n",
       "    .dataframe thead th {\n",
       "        text-align: right;\n",
       "    }\n",
       "</style>\n",
       "<table border=\"1\" class=\"dataframe\">\n",
       "  <thead>\n",
       "    <tr style=\"text-align: right;\">\n",
       "      <th></th>\n",
       "      <th>CUST_ID</th>\n",
       "      <th>BALANCE</th>\n",
       "      <th>BALANCE_FREQUENCY</th>\n",
       "      <th>PURCHASES</th>\n",
       "      <th>ONEOFF_PURCHASES</th>\n",
       "      <th>INSTALLMENTS_PURCHASES</th>\n",
       "      <th>CASH_ADVANCE</th>\n",
       "      <th>PURCHASES_FREQUENCY</th>\n",
       "      <th>ONEOFF_PURCHASES_FREQUENCY</th>\n",
       "      <th>PURCHASES_INSTALLMENTS_FREQUENCY</th>\n",
       "      <th>CASH_ADVANCE_FREQUENCY</th>\n",
       "      <th>CASH_ADVANCE_TRX</th>\n",
       "      <th>PURCHASES_TRX</th>\n",
       "      <th>CREDIT_LIMIT</th>\n",
       "      <th>PAYMENTS</th>\n",
       "      <th>MINIMUM_PAYMENTS</th>\n",
       "      <th>PRC_FULL_PAYMENT</th>\n",
       "      <th>TENURE</th>\n",
       "    </tr>\n",
       "  </thead>\n",
       "  <tbody>\n",
       "    <tr>\n",
       "      <th>0</th>\n",
       "      <td>C10001</td>\n",
       "      <td>40.900749</td>\n",
       "      <td>0.818182</td>\n",
       "      <td>95.40</td>\n",
       "      <td>0.00</td>\n",
       "      <td>95.4</td>\n",
       "      <td>0.000000</td>\n",
       "      <td>0.166667</td>\n",
       "      <td>0.000000</td>\n",
       "      <td>0.083333</td>\n",
       "      <td>0.000000</td>\n",
       "      <td>0</td>\n",
       "      <td>2</td>\n",
       "      <td>1000.0</td>\n",
       "      <td>201.802084</td>\n",
       "      <td>139.509787</td>\n",
       "      <td>0.000000</td>\n",
       "      <td>12</td>\n",
       "    </tr>\n",
       "    <tr>\n",
       "      <th>1</th>\n",
       "      <td>C10002</td>\n",
       "      <td>3202.467416</td>\n",
       "      <td>0.909091</td>\n",
       "      <td>0.00</td>\n",
       "      <td>0.00</td>\n",
       "      <td>0.0</td>\n",
       "      <td>6442.945483</td>\n",
       "      <td>0.000000</td>\n",
       "      <td>0.000000</td>\n",
       "      <td>0.000000</td>\n",
       "      <td>0.250000</td>\n",
       "      <td>4</td>\n",
       "      <td>0</td>\n",
       "      <td>7000.0</td>\n",
       "      <td>4103.032597</td>\n",
       "      <td>1072.340217</td>\n",
       "      <td>0.222222</td>\n",
       "      <td>12</td>\n",
       "    </tr>\n",
       "    <tr>\n",
       "      <th>2</th>\n",
       "      <td>C10003</td>\n",
       "      <td>2495.148862</td>\n",
       "      <td>1.000000</td>\n",
       "      <td>773.17</td>\n",
       "      <td>773.17</td>\n",
       "      <td>0.0</td>\n",
       "      <td>0.000000</td>\n",
       "      <td>1.000000</td>\n",
       "      <td>1.000000</td>\n",
       "      <td>0.000000</td>\n",
       "      <td>0.000000</td>\n",
       "      <td>0</td>\n",
       "      <td>12</td>\n",
       "      <td>7500.0</td>\n",
       "      <td>622.066742</td>\n",
       "      <td>627.284787</td>\n",
       "      <td>0.000000</td>\n",
       "      <td>12</td>\n",
       "    </tr>\n",
       "    <tr>\n",
       "      <th>3</th>\n",
       "      <td>C10004</td>\n",
       "      <td>1666.670542</td>\n",
       "      <td>0.636364</td>\n",
       "      <td>1499.00</td>\n",
       "      <td>1499.00</td>\n",
       "      <td>0.0</td>\n",
       "      <td>205.788017</td>\n",
       "      <td>0.083333</td>\n",
       "      <td>0.083333</td>\n",
       "      <td>0.000000</td>\n",
       "      <td>0.083333</td>\n",
       "      <td>1</td>\n",
       "      <td>1</td>\n",
       "      <td>7500.0</td>\n",
       "      <td>0.000000</td>\n",
       "      <td>NaN</td>\n",
       "      <td>0.000000</td>\n",
       "      <td>12</td>\n",
       "    </tr>\n",
       "    <tr>\n",
       "      <th>4</th>\n",
       "      <td>C10005</td>\n",
       "      <td>817.714335</td>\n",
       "      <td>1.000000</td>\n",
       "      <td>16.00</td>\n",
       "      <td>16.00</td>\n",
       "      <td>0.0</td>\n",
       "      <td>0.000000</td>\n",
       "      <td>0.083333</td>\n",
       "      <td>0.083333</td>\n",
       "      <td>0.000000</td>\n",
       "      <td>0.000000</td>\n",
       "      <td>0</td>\n",
       "      <td>1</td>\n",
       "      <td>1200.0</td>\n",
       "      <td>678.334763</td>\n",
       "      <td>244.791237</td>\n",
       "      <td>0.000000</td>\n",
       "      <td>12</td>\n",
       "    </tr>\n",
       "  </tbody>\n",
       "</table>\n",
       "</div>"
      ]
     },
     "execution_count": 5,
     "metadata": {},
     "output_type": "execute_result"
    }
   ],
   "execution_count": 5
  },
  {
   "cell_type": "markdown",
   "id": "b1cc42f6-cd03-4d27-936b-9004f6a3f42a",
   "metadata": {},
   "source": [
    "# Fill Na"
   ]
  },
  {
   "cell_type": "markdown",
   "id": "6d2cbae2-4c07-40a0-955f-7d40662e6467",
   "metadata": {},
   "source": [
    "\n",
    "missing values ვავსებ შემდეგი ლოგიკით, თუ ცვლადში გვხვდება 0, მაშინ იმ ცვლადში Nan ვავსებ 0-ით. სხვა შემთხვევაში ვავსებ მედიანით."
   ]
  },
  {
   "metadata": {
    "ExecuteTime": {
     "end_time": "2024-08-09T14:01:27.763078Z",
     "start_time": "2024-08-09T14:01:27.739348Z"
    }
   },
   "cell_type": "code",
   "source": "fill_na_median(cc_df)",
   "id": "e37e94f14cda5f98",
   "outputs": [],
   "execution_count": 6
  },
  {
   "cell_type": "code",
   "id": "dcc5db4d-c069-4c85-988a-ef7885e09dc4",
   "metadata": {
    "ExecuteTime": {
     "end_time": "2024-08-09T14:01:27.776568Z",
     "start_time": "2024-08-09T14:01:27.764070Z"
    }
   },
   "source": [
    "cc_df.isna().mean()"
   ],
   "outputs": [
    {
     "data": {
      "text/plain": [
       "CUST_ID                             0.0\n",
       "BALANCE                             0.0\n",
       "BALANCE_FREQUENCY                   0.0\n",
       "PURCHASES                           0.0\n",
       "ONEOFF_PURCHASES                    0.0\n",
       "INSTALLMENTS_PURCHASES              0.0\n",
       "CASH_ADVANCE                        0.0\n",
       "PURCHASES_FREQUENCY                 0.0\n",
       "ONEOFF_PURCHASES_FREQUENCY          0.0\n",
       "PURCHASES_INSTALLMENTS_FREQUENCY    0.0\n",
       "CASH_ADVANCE_FREQUENCY              0.0\n",
       "CASH_ADVANCE_TRX                    0.0\n",
       "PURCHASES_TRX                       0.0\n",
       "CREDIT_LIMIT                        0.0\n",
       "PAYMENTS                            0.0\n",
       "MINIMUM_PAYMENTS                    0.0\n",
       "PRC_FULL_PAYMENT                    0.0\n",
       "TENURE                              0.0\n",
       "dtype: float64"
      ]
     },
     "execution_count": 7,
     "metadata": {},
     "output_type": "execute_result"
    }
   ],
   "execution_count": 7
  },
  {
   "cell_type": "code",
   "id": "7fe96c93-5a59-4c9b-a9f6-0912c2b7a92b",
   "metadata": {
    "ExecuteTime": {
     "end_time": "2024-08-09T14:01:27.787012Z",
     "start_time": "2024-08-09T14:01:27.777560Z"
    }
   },
   "source": [
    "cc_df.columns[1:]"
   ],
   "outputs": [
    {
     "data": {
      "text/plain": [
       "Index(['BALANCE', 'BALANCE_FREQUENCY', 'PURCHASES', 'ONEOFF_PURCHASES',\n",
       "       'INSTALLMENTS_PURCHASES', 'CASH_ADVANCE', 'PURCHASES_FREQUENCY',\n",
       "       'ONEOFF_PURCHASES_FREQUENCY', 'PURCHASES_INSTALLMENTS_FREQUENCY',\n",
       "       'CASH_ADVANCE_FREQUENCY', 'CASH_ADVANCE_TRX', 'PURCHASES_TRX',\n",
       "       'CREDIT_LIMIT', 'PAYMENTS', 'MINIMUM_PAYMENTS', 'PRC_FULL_PAYMENT',\n",
       "       'TENURE'],\n",
       "      dtype='object')"
      ]
     },
     "execution_count": 8,
     "metadata": {},
     "output_type": "execute_result"
    }
   ],
   "execution_count": 8
  },
  {
   "cell_type": "markdown",
   "id": "b2891021-e2a6-4372-b189-e5df88384ce5",
   "metadata": {},
   "source": [
    "# PCA"
   ]
  },
  {
   "metadata": {
    "ExecuteTime": {
     "end_time": "2024-08-09T14:01:27.867949Z",
     "start_time": "2024-08-09T14:01:27.790598Z"
    }
   },
   "cell_type": "code",
   "source": "data, identifiers, df_pca = pca_data(cc_df, 'CUST_ID', 10, True)",
   "id": "464875f6e7655458",
   "outputs": [
    {
     "name": "stdout",
     "output_type": "stream",
     "text": [
      "PCA Result -  0.9192983251776005\n",
      "Outlier is point if it is outlier in 5.0 Features\n"
     ]
    }
   ],
   "execution_count": 9
  },
  {
   "cell_type": "markdown",
   "id": "c3376cbe-eced-44c3-bb5e-f0a4f06af55d",
   "metadata": {},
   "source": [
    "# Elbow Method"
   ]
  },
  {
   "cell_type": "code",
   "id": "ea7361be-9ffe-4b50-b44e-c412f4223f71",
   "metadata": {
    "ExecuteTime": {
     "end_time": "2024-08-09T14:01:30.006096Z",
     "start_time": "2024-08-09T14:01:27.871100Z"
    }
   },
   "source": [
    "diff_clusters = cluster_in_range(df_pca, identifiers, range(1, 10))"
   ],
   "outputs": [
    {
     "data": {
      "text/plain": [
       "<Figure size 640x480 with 1 Axes>"
      ],
      "image/png": "[encoded data removed]"
     },
     "metadata": {},
     "output_type": "display_data"
    }
   ],
   "execution_count": 10
  },
  {
   "cell_type": "code",
   "id": "5a9887ae-6c90-4644-8c69-19b25afaa4af",
   "metadata": {
    "ExecuteTime": {
     "end_time": "2024-08-09T14:01:30.034694Z",
     "start_time": "2024-08-09T14:01:30.013068Z"
    }
   },
   "source": [
    "diff_clusters"
   ],
   "outputs": [
    {
     "data": {
      "text/plain": [
       "{1: cluster\n",
       " 0    8881\n",
       " Name: count, dtype: int64,\n",
       " 2: cluster\n",
       " 1    5067\n",
       " 0    3814\n",
       " Name: count, dtype: int64,\n",
       " 3: cluster\n",
       " 1    4378\n",
       " 2    3253\n",
       " 0    1250\n",
       " Name: count, dtype: int64,\n",
       " 4: cluster\n",
       " 2    3833\n",
       " 1    3004\n",
       " 3    1208\n",
       " 0     836\n",
       " Name: count, dtype: int64,\n",
       " 5: cluster\n",
       " 4    2952\n",
       " 0    2824\n",
       " 1    1337\n",
       " 2    1015\n",
       " 3     753\n",
       " Name: count, dtype: int64,\n",
       " 6: cluster\n",
       " 1    2737\n",
       " 0    2665\n",
       " 3    1202\n",
       " 2     930\n",
       " 5     709\n",
       " 4     638\n",
       " Name: count, dtype: int64,\n",
       " 7: cluster\n",
       " 1    2686\n",
       " 0    1976\n",
       " 3    1188\n",
       " 6    1120\n",
       " 2     896\n",
       " 4     622\n",
       " 5     393\n",
       " Name: count, dtype: int64,\n",
       " 8: cluster\n",
       " 7    2575\n",
       " 2    1606\n",
       " 6    1111\n",
       " 3    1017\n",
       " 5     875\n",
       " 1     718\n",
       " 4     600\n",
       " 0     379\n",
       " Name: count, dtype: int64,\n",
       " 9: cluster\n",
       " 6    2241\n",
       " 3    1531\n",
       " 8    1090\n",
       " 7    1046\n",
       " 2     976\n",
       " 0     710\n",
       " 5     586\n",
       " 4     367\n",
       " 1     334\n",
       " Name: count, dtype: int64}"
      ]
     },
     "execution_count": 11,
     "metadata": {},
     "output_type": "execute_result"
    }
   ],
   "execution_count": 11
  },
  {
   "cell_type": "markdown",
   "id": "5e8fb122-60d2-4af7-81bd-41584a36e8fa",
   "metadata": {},
   "source": [
    "# Cluster Description"
   ]
  },
  {
   "cell_type": "markdown",
   "id": "a06d992f-63a9-41f1-895d-f7d4626eed2d",
   "metadata": {},
   "source": [
    "ამ Tool ის კონტექსტში საუკეთესო ცენტროიდების რაოდენობა მხოლოდ გეომეტრიული ასპექტით არ ფასდება, არამედ რამდენად შეგვიძლია ავხსნათ ეს სეგმენტები. ამისათვის შევიმუშავოთ custom F1-Score ის ცნება. როდესაც Decision Tree ის node ებით ავაწყობთ select ის ლოგიკას, ეს იყოს ჩვენი prediction ბი, ხოლო label იყოს ამ კონკრეტულ კლასტერში ჩავარდნილი წერტილები. ამ განმარტებებიდან გამომდინარე ჩვენ უკვე შეგვიძლია ამ select ის precision, recall - შესაბამისად f1_score ით შევაფასოთ თითოეული კლასტერი. თუ თითოეული კლასტერის შეფასების მეტრიკა გვაქვს, მაშინ შეგვიძლია კონკრეტული k ს შედეგიც შევაფასოთ"
   ]
  },
  {
   "cell_type": "markdown",
   "id": "82988a92-8a80-4518-8738-8a3e8c64aeab",
   "metadata": {},
   "source": [
    "# Clusterization Tool Class"
   ]
  },
  {
   "metadata": {},
   "cell_type": "markdown",
   "source": "## Updated BinaryTree",
   "id": "296655658e34c1e"
  },
  {
   "metadata": {
    "ExecuteTime": {
     "end_time": "2024-08-09T14:01:30.059528Z",
     "start_time": "2024-08-09T14:01:30.037681Z"
    }
   },
   "cell_type": "code",
   "source": "from classes.ClusterDescriptionsNew import ClusterDescriptionsNew",
   "id": "9ac89949e4ebd39c",
   "outputs": [],
   "execution_count": 12
  },
  {
   "metadata": {
    "ExecuteTime": {
     "end_time": "2024-08-09T14:01:32.781985Z",
     "start_time": "2024-08-09T14:01:30.065924Z"
    }
   },
   "cell_type": "code",
   "source": [
    "cluster_desc_new = ClusterDescriptionsNew(data, df_pca, identifiers, range(2, 10))\n",
    "\n",
    "cluster_desc_new.describe_clusters()"
   ],
   "id": "fe029c208be57f44",
   "outputs": [
    {
     "name": "stdout",
     "output_type": "stream",
     "text": [
      "<-- Results for 2 clusters -->\n",
      "F1-score: Weighted 0.9304, Macro 0.9273\n",
      "Test F1-score: Weighted 0.9255, Macro 0.9220\n",
      "\n",
      "<-- Results for 3 clusters -->\n",
      "F1-score: Weighted 0.8761, Macro 0.8390\n",
      "Test F1-score: Weighted 0.8711, Macro 0.8389\n",
      "\n",
      "<-- Results for 4 clusters -->\n",
      "F1-score: Weighted 0.8647, Macro 0.8187\n",
      "Test F1-score: Weighted 0.8416, Macro 0.7991\n",
      "\n",
      "<-- Results for 5 clusters -->\n",
      "F1-score: Weighted 0.8714, Macro 0.8494\n",
      "Test F1-score: Weighted 0.8511, Macro 0.8303\n",
      "\n",
      "<-- Results for 6 clusters -->\n",
      "F1-score: Weighted 0.8578, Macro 0.8486\n",
      "Test F1-score: Weighted 0.8368, Macro 0.8274\n",
      "\n",
      "<-- Results for 7 clusters -->\n",
      "F1-score: Weighted 0.8475, Macro 0.8348\n",
      "Test F1-score: Weighted 0.8348, Macro 0.8258\n",
      "\n",
      "<-- Results for 8 clusters -->\n",
      "F1-score: Weighted 0.8225, Macro 0.8142\n",
      "Test F1-score: Weighted 0.8202, Macro 0.8098\n",
      "\n",
      "<-- Results for 9 clusters -->\n",
      "F1-score: Weighted 0.8075, Macro 0.7892\n",
      "Test F1-score: Weighted 0.7948, Macro 0.7734\n",
      "\n"
     ]
    }
   ],
   "execution_count": 13
  },
  {
   "metadata": {},
   "cell_type": "markdown",
   "source": "## Multi-Class DecisionTree",
   "id": "49011c962a5c7bad"
  },
  {
   "metadata": {
    "ExecuteTime": {
     "end_time": "2024-08-09T14:01:32.794502Z",
     "start_time": "2024-08-09T14:01:32.782996Z"
    }
   },
   "cell_type": "code",
   "source": "from classes.MultiClassClusterDescriptions import MultiClassClusterDescriptions",
   "id": "b06daffde55e26fd",
   "outputs": [],
   "execution_count": 14
  },
  {
   "metadata": {
    "ExecuteTime": {
     "end_time": "2024-08-09T14:01:34.442759Z",
     "start_time": "2024-08-09T14:01:32.796492Z"
    }
   },
   "cell_type": "code",
   "source": [
    "# Initialize the MultiClassClusterDescriptions object\n",
    "multi_cluster_desc = MultiClassClusterDescriptions(data, df_pca, identifiers, range(2, 10))\n",
    "\n",
    "# Generate descriptions for all clusters\n",
    "multi_cluster_desc.describe_clusters()"
   ],
   "id": "c046febb6a5b24b0",
   "outputs": [
    {
     "name": "stdout",
     "output_type": "stream",
     "text": [
      "<-- Results for 2 clusters -->\n",
      "Train F1-score: Weighted 0.9207, Macro 0.9187\n",
      "Test F1-score: Weighted 0.9152, Macro 0.9130\n",
      "\n",
      "<-- Results for 3 clusters -->\n",
      "Train F1-score: Weighted 0.8273, Macro 0.7674\n",
      "Test F1-score: Weighted 0.8223, Macro 0.7648\n",
      "\n",
      "<-- Results for 4 clusters -->\n",
      "Train F1-score: Weighted 0.8825, Macro 0.8519\n",
      "Test F1-score: Weighted 0.8575, Macro 0.8286\n",
      "\n",
      "<-- Results for 5 clusters -->\n",
      "Train F1-score: Weighted 0.8404, Macro 0.8133\n",
      "Test F1-score: Weighted 0.8272, Macro 0.8026\n",
      "\n",
      "<-- Results for 6 clusters -->\n",
      "Train F1-score: Weighted 0.8236, Macro 0.7829\n",
      "Test F1-score: Weighted 0.8043, Macro 0.7681\n",
      "\n",
      "<-- Results for 7 clusters -->\n",
      "Train F1-score: Weighted 0.7970, Macro 0.7430\n",
      "Test F1-score: Weighted 0.7843, Macro 0.7406\n",
      "\n",
      "<-- Results for 8 clusters -->\n",
      "Train F1-score: Weighted 0.7791, Macro 0.7326\n",
      "Test F1-score: Weighted 0.7658, Macro 0.7225\n",
      "\n",
      "<-- Results for 9 clusters -->\n",
      "Train F1-score: Weighted 0.7352, Macro 0.6364\n",
      "Test F1-score: Weighted 0.7338, Macro 0.6412\n",
      "\n"
     ]
    }
   ],
   "execution_count": 15
  },
  {
   "metadata": {
    "ExecuteTime": {
     "end_time": "2024-08-09T14:01:34.533932Z",
     "start_time": "2024-08-09T14:01:34.443776Z"
    }
   },
   "cell_type": "code",
   "source": "multi_cluster_desc.evaluate(data, df_pca, 7)",
   "id": "dd671307e5339035",
   "outputs": [
    {
     "data": {
      "text/plain": [
       "{'macro_f1': 0.7426215440301762,\n",
       " 'weighted_f1': 0.7944535047933045,\n",
       " 'per_cluster_f1': {0: 0.831593281888334,\n",
       "  1: 0.8675039801875111,\n",
       "  2: 0.7394270122783083,\n",
       "  3: 0.8842863574966231,\n",
       "  4: 0.6270411495754409,\n",
       "  5: 0.8117744610281924,\n",
       "  6: 0.43672456575682383},\n",
       " 'test_labels': array([1, 4, 5, ..., 6, 6, 6]),\n",
       " 'y_pred': array([1, 4, 5, ..., 6, 1, 5])}"
      ]
     },
     "execution_count": 16,
     "metadata": {},
     "output_type": "execute_result"
    }
   ],
   "execution_count": 16
  },
  {
   "metadata": {
    "ExecuteTime": {
     "end_time": "2024-08-09T14:01:36.012662Z",
     "start_time": "2024-08-09T14:01:34.534914Z"
    }
   },
   "cell_type": "code",
   "source": "multi_cluster_desc.plot_decision_tree(4)",
   "id": "c152ce3625543dc6",
   "outputs": [],
   "execution_count": 17
  },
  {
   "metadata": {},
   "cell_type": "markdown",
   "source": "მულტიკლასის და ჩვეულებრივის binary 2 კლასტერზე იმიტომ არ ემთხვევა, რომ ჩვეულებრივის დროს თითოეულზე ცალკე არის დატრენინგებული და ამიტომ ერთიერთში არ ემთხვევა",
   "id": "204a234911d5df69"
  },
  {
   "metadata": {},
   "cell_type": "markdown",
   "source": "# Compare",
   "id": "f9653e205120fbf1"
  },
  {
   "metadata": {
    "ExecuteTime": {
     "end_time": "2024-08-09T14:01:37.206968Z",
     "start_time": "2024-08-09T14:01:36.013688Z"
    }
   },
   "cell_type": "code",
   "source": "cluster_desc_new.plot_decision_tree(2, 0)",
   "id": "b2ecebdf3144f78c",
   "outputs": [],
   "execution_count": 18
  },
  {
   "metadata": {
    "ExecuteTime": {
     "end_time": "2024-08-09T14:01:38.405803Z",
     "start_time": "2024-08-09T14:01:37.207903Z"
    }
   },
   "cell_type": "code",
   "source": "cluster_desc_new.plot_decision_tree(2, 1)",
   "id": "e8b7fe14c3bdbaf3",
   "outputs": [],
   "execution_count": 19
  },
  {
   "metadata": {
    "ExecuteTime": {
     "end_time": "2024-08-09T14:01:38.413495Z",
     "start_time": "2024-08-09T14:01:38.406811Z"
    }
   },
   "cell_type": "code",
   "source": "cluster_desc_new.descriptions[2]",
   "id": "254c4951b25cfe4c",
   "outputs": [
    {
     "data": {
      "text/plain": [
       "{0: {'query': 'PURCHASES_FREQUENCY <= 0.577381.',\n",
       "  'f1_score': 0.9509443528964381},\n",
       " 1: {'query': 'PURCHASES_FREQUENCY > 0.577381. PURCHASES_FREQUENCY > 0.720780.',\n",
       "  'f1_score': 0.9035603180089872}}"
      ]
     },
     "execution_count": 20,
     "metadata": {},
     "output_type": "execute_result"
    }
   ],
   "execution_count": 20
  },
  {
   "metadata": {
    "ExecuteTime": {
     "end_time": "2024-08-09T14:01:39.805413Z",
     "start_time": "2024-08-09T14:01:38.414492Z"
    }
   },
   "cell_type": "code",
   "source": "multi_cluster_desc.plot_decision_tree(n_clusters=2)",
   "id": "e752612a6ee6ee06",
   "outputs": [],
   "execution_count": 21
  }
 ],
 "metadata": {
  "kernelspec": {
   "display_name": "Python 3 (ipykernel)",
   "language": "python",
   "name": "python3"
  },
  "language_info": {
   "codemirror_mode": {
    "name": "ipython",
    "version": 3
   },
   "file_extension": ".py",
   "mimetype": "text/x-python",
   "name": "python",
   "nbconvert_exporter": "python",
   "pygments_lexer": "ipython3",
   "version": "3.11.9"
  }
 },
 "nbformat": 4,
 "nbformat_minor": 5
}
